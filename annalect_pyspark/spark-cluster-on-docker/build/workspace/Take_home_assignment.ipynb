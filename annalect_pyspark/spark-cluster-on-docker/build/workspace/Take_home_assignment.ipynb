{
 "cells": [
  {
   "cell_type": "code",
   "execution_count": 1,
   "id": "769f9da0",
   "metadata": {},
   "outputs": [],
   "source": [
    "# **PySpark**: Pyspark Take Home Assignment"
   ]
  },
  {
   "cell_type": "code",
   "execution_count": 2,
   "id": "5a82b8f5",
   "metadata": {},
   "outputs": [
    {
     "name": "stderr",
     "output_type": "stream",
     "text": [
      "23/03/06 20:17:38 WARN NativeCodeLoader: Unable to load native-hadoop library for your platform... using builtin-java classes where applicable\n",
      "Using Spark's default log4j profile: org/apache/spark/log4j-defaults.properties\n",
      "Setting default log level to \"WARN\".\n",
      "To adjust logging level use sc.setLogLevel(newLevel). For SparkR, use setLogLevel(newLevel).\n"
     ]
    }
   ],
   "source": [
    "from pyspark.sql import SparkSession\n",
    "from pyspark.sql.functions import col, avg\n",
    "\n",
    "spark = SparkSession.\\\n",
    "        builder.\\\n",
    "        appName(\"pyspark-take-home-assingment\").\\\n",
    "        master(\"spark://spark-master:7077\").\\\n",
    "        config(\"spark.executor.memory\", \"512m\").\\\n",
    "        getOrCreate()"
   ]
  },
  {
   "cell_type": "code",
   "execution_count": 3,
   "id": "4e698dbf",
   "metadata": {},
   "outputs": [],
   "source": [
    "## 3. The Data\n",
    "# Read the csv data "
   ]
  },
  {
   "cell_type": "code",
   "execution_count": 4,
   "id": "f8fd69f5",
   "metadata": {},
   "outputs": [
    {
     "name": "stderr",
     "output_type": "stream",
     "text": [
      "                                                                                \r"
     ]
    }
   ],
   "source": [
    "df_data = spark.read.option(\"header\",True).csv(\"data/Pokemon.csv\")"
   ]
  },
  {
   "cell_type": "code",
   "execution_count": 5,
   "id": "0cb050bb",
   "metadata": {},
   "outputs": [
    {
     "data": {
      "text/plain": [
       "800"
      ]
     },
     "execution_count": 5,
     "metadata": {},
     "output_type": "execute_result"
    }
   ],
   "source": [
    "df_data.count()"
   ]
  },
  {
   "cell_type": "code",
   "execution_count": 6,
   "id": "6e6ae73c",
   "metadata": {},
   "outputs": [
    {
     "data": {
      "text/plain": [
       "13"
      ]
     },
     "execution_count": 6,
     "metadata": {},
     "output_type": "execute_result"
    }
   ],
   "source": [
    "len(df_data.columns)"
   ]
  },
  {
   "cell_type": "code",
   "execution_count": 7,
   "id": "2547fd99",
   "metadata": {},
   "outputs": [
    {
     "name": "stdout",
     "output_type": "stream",
     "text": [
      "root\n",
      " |-- #: string (nullable = true)\n",
      " |-- Name: string (nullable = true)\n",
      " |-- Type 1: string (nullable = true)\n",
      " |-- Type 2: string (nullable = true)\n",
      " |-- Total: string (nullable = true)\n",
      " |-- HP: string (nullable = true)\n",
      " |-- Attack: string (nullable = true)\n",
      " |-- Defense: string (nullable = true)\n",
      " |-- Sp. Atk: string (nullable = true)\n",
      " |-- Sp. Def: string (nullable = true)\n",
      " |-- Speed: string (nullable = true)\n",
      " |-- Generation: string (nullable = true)\n",
      " |-- Legendary: string (nullable = true)\n",
      "\n"
     ]
    }
   ],
   "source": [
    "df_data.printSchema()"
   ]
  },
  {
   "cell_type": "code",
   "execution_count": 8,
   "id": "e2b491a5",
   "metadata": {},
   "outputs": [],
   "source": [
    "## 1. what are the top 5 strongest non-legendary monsters?"
   ]
  },
  {
   "cell_type": "code",
   "execution_count": 9,
   "id": "f12b05f4",
   "metadata": {},
   "outputs": [],
   "source": [
    "df_non_legendary_pokemon_df_data = df_data.filter(df_data[\"Legendary\"] == False).orderBy(col(\"Total\").desc())"
   ]
  },
  {
   "cell_type": "code",
   "execution_count": 10,
   "id": "d86b38dc",
   "metadata": {},
   "outputs": [
    {
     "name": "stderr",
     "output_type": "stream",
     "text": [
      "[Stage 3:>                                                          (0 + 1) / 1]\r"
     ]
    },
    {
     "name": "stdout",
     "output_type": "stream",
     "text": [
      "+-----------------------+------+\n",
      "|name                   |Type 1|\n",
      "+-----------------------+------+\n",
      "|TyranitarMega Tyranitar|Rock  |\n",
      "|MetagrossMega Metagross|Steel |\n",
      "|GarchompMega Garchomp  |Dragon|\n",
      "|SalamenceMega Salamence|Dragon|\n",
      "|Slaking                |Normal|\n",
      "+-----------------------+------+\n",
      "\n"
     ]
    },
    {
     "name": "stderr",
     "output_type": "stream",
     "text": [
      "                                                                                \r"
     ]
    }
   ],
   "source": [
    "top_strongest_non_legendary_pokemon = df_non_legendary_pokemon_df_data.select(col(\"name\"), col(\"`Type 1`\")).limit(5).show(5, False)"
   ]
  },
  {
   "cell_type": "code",
   "execution_count": 11,
   "id": "5df95cae",
   "metadata": {},
   "outputs": [],
   "source": [
    "# 2. Which Pokemon type has the highest average HP?"
   ]
  },
  {
   "cell_type": "code",
   "execution_count": 12,
   "id": "f4d0ee5b",
   "metadata": {},
   "outputs": [
    {
     "name": "stderr",
     "output_type": "stream",
     "text": [
      "[Stage 5:==================================================>    (183 + 2) / 200]\r"
     ]
    },
    {
     "name": "stdout",
     "output_type": "stream",
     "text": [
      "+------+-------+\n",
      "|Type 1|avg_hp |\n",
      "+------+-------+\n",
      "|Dragon|83.3125|\n",
      "+------+-------+\n",
      "\n"
     ]
    },
    {
     "name": "stderr",
     "output_type": "stream",
     "text": [
      "                                                                                \r"
     ]
    }
   ],
   "source": [
    "df_average_hp_per_type = df_data.filter(col(\"`Type 1`\").isNotNull()).groupBy(col(\"`Type 1`\")) \\\n",
    "                        .agg(avg(col(\"HP\"))).withColumnRenamed(\"avg(HP)\", \"avg_hp\").withColumnRenamed(\"`Type 1`\", \"type\")\n",
    "\n",
    "df_average_hp_per_type.orderBy(col(\"avg_hp\").desc()).limit(1).show(1, False)"
   ]
  },
  {
   "cell_type": "code",
   "execution_count": 13,
   "id": "e03bda04",
   "metadata": {},
   "outputs": [],
   "source": [
    "# 3. Which is the most common special Attack?"
   ]
  },
  {
   "cell_type": "code",
   "execution_count": 14,
   "id": "68ace8be",
   "metadata": {},
   "outputs": [
    {
     "name": "stderr",
     "output_type": "stream",
     "text": [
      "                                                                                \r"
     ]
    },
    {
     "name": "stdout",
     "output_type": "stream",
     "text": [
      "+------+---------+\n",
      "|Type 1|occurance|\n",
      "+------+---------+\n",
      "|Water |112      |\n",
      "+------+---------+\n",
      "\n"
     ]
    }
   ],
   "source": [
    "\n",
    "df_special_attack_occurances = df_data.filter(col(\"`Type 1`\").isNotNull()).groupBy(col(\"`Type 1`\")).count() \\\n",
    "                                .withColumnRenamed(\"count\", \"occurance\").withColumnRenamed(\"`Type 1`\", \"type\")\n",
    "\n",
    "most_common_special_attack = df_special_attack_occurances.orderBy(col(\"occurance\").desc()).limit(1).show(1, False)"
   ]
  },
  {
   "cell_type": "code",
   "execution_count": null,
   "id": "c7963ee8",
   "metadata": {},
   "outputs": [],
   "source": []
  },
  {
   "cell_type": "code",
   "execution_count": null,
   "id": "f79ebe9c",
   "metadata": {},
   "outputs": [],
   "source": []
  }
 ],
 "metadata": {
  "kernelspec": {
   "display_name": "Python 3 (ipykernel)",
   "language": "python",
   "name": "python3"
  },
  "language_info": {
   "codemirror_mode": {
    "name": "ipython",
    "version": 3
   },
   "file_extension": ".py",
   "mimetype": "text/x-python",
   "name": "python",
   "nbconvert_exporter": "python",
   "pygments_lexer": "ipython3",
   "version": "3.9.2"
  }
 },
 "nbformat": 4,
 "nbformat_minor": 5
}
